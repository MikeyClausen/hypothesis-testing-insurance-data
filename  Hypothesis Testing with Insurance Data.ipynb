{
 "cells": [
  {
   "cell_type": "markdown",
   "id": "ecbef201",
   "metadata": {},
   "source": [
    "- Q1. Do smokers have higher insurance charges than non-smokers?\n",
    "- Q2. Are men more likely to smoke than women?\n",
    "- Q3. Do different regions have different charges, on average?\n",
    "\n",
    "> 1. State your Null Hypothesis and Alternative Hypothesis\n",
    "> 2. Select the correct test according to the data type and number of samples\n",
    "> 3. Test the assumptions of your selected test.\n",
    "> 4. Execute the selected test, or the alternative test (if you do not meet the assumptions)\n",
    "> 5. Interpret your p-value and reject or fail to reject your null hypothesis \n",
    "> 6. Show a supporting visualization that helps display the result\n"
   ]
  },
  {
   "cell_type": "code",
   "execution_count": 1,
   "id": "176e03ec",
   "metadata": {},
   "outputs": [],
   "source": [
    "#Imports\n",
    "import os\n",
    "os.environ[\"OMP_NUM_THREADS\"] = '1'\n",
    "import pandas as pd\n",
    "import numpy as np\n",
    "import matplotlib.pyplot as plt\n",
    "import seaborn as sns\n",
    "from scipy import stats"
   ]
  },
  {
   "cell_type": "code",
   "execution_count": 2,
   "id": "92ceb9bf",
   "metadata": {},
   "outputs": [
    {
     "data": {
      "text/html": [
       "<div>\n",
       "<style scoped>\n",
       "    .dataframe tbody tr th:only-of-type {\n",
       "        vertical-align: middle;\n",
       "    }\n",
       "\n",
       "    .dataframe tbody tr th {\n",
       "        vertical-align: top;\n",
       "    }\n",
       "\n",
       "    .dataframe thead th {\n",
       "        text-align: right;\n",
       "    }\n",
       "</style>\n",
       "<table border=\"1\" class=\"dataframe\">\n",
       "  <thead>\n",
       "    <tr style=\"text-align: right;\">\n",
       "      <th></th>\n",
       "      <th>age</th>\n",
       "      <th>sex</th>\n",
       "      <th>bmi</th>\n",
       "      <th>children</th>\n",
       "      <th>smoker</th>\n",
       "      <th>region</th>\n",
       "      <th>charges</th>\n",
       "    </tr>\n",
       "  </thead>\n",
       "  <tbody>\n",
       "    <tr>\n",
       "      <th>0</th>\n",
       "      <td>19</td>\n",
       "      <td>female</td>\n",
       "      <td>27.900</td>\n",
       "      <td>0</td>\n",
       "      <td>yes</td>\n",
       "      <td>southwest</td>\n",
       "      <td>16884.92400</td>\n",
       "    </tr>\n",
       "    <tr>\n",
       "      <th>1</th>\n",
       "      <td>18</td>\n",
       "      <td>male</td>\n",
       "      <td>33.770</td>\n",
       "      <td>1</td>\n",
       "      <td>no</td>\n",
       "      <td>southeast</td>\n",
       "      <td>1725.55230</td>\n",
       "    </tr>\n",
       "    <tr>\n",
       "      <th>2</th>\n",
       "      <td>28</td>\n",
       "      <td>male</td>\n",
       "      <td>33.000</td>\n",
       "      <td>3</td>\n",
       "      <td>no</td>\n",
       "      <td>southeast</td>\n",
       "      <td>4449.46200</td>\n",
       "    </tr>\n",
       "    <tr>\n",
       "      <th>3</th>\n",
       "      <td>33</td>\n",
       "      <td>male</td>\n",
       "      <td>22.705</td>\n",
       "      <td>0</td>\n",
       "      <td>no</td>\n",
       "      <td>northwest</td>\n",
       "      <td>21984.47061</td>\n",
       "    </tr>\n",
       "    <tr>\n",
       "      <th>4</th>\n",
       "      <td>32</td>\n",
       "      <td>male</td>\n",
       "      <td>28.880</td>\n",
       "      <td>0</td>\n",
       "      <td>no</td>\n",
       "      <td>northwest</td>\n",
       "      <td>3866.85520</td>\n",
       "    </tr>\n",
       "  </tbody>\n",
       "</table>\n",
       "</div>"
      ],
      "text/plain": [
       "   age     sex     bmi  children smoker     region      charges\n",
       "0   19  female  27.900         0    yes  southwest  16884.92400\n",
       "1   18    male  33.770         1     no  southeast   1725.55230\n",
       "2   28    male  33.000         3     no  southeast   4449.46200\n",
       "3   33    male  22.705         0     no  northwest  21984.47061\n",
       "4   32    male  28.880         0     no  northwest   3866.85520"
      ]
     },
     "execution_count": 2,
     "metadata": {},
     "output_type": "execute_result"
    }
   ],
   "source": [
    "url='https://docs.google.com/spreadsheets/d/e/2PACX-1vQBN8DPW2rdiRrY34eEM53HAzakNGSRrw4ogI-j8HyCUrbqTB_z4CeIn2IvjLF-w_6sOe5pIlypJGAA/pub?output=csv'\n",
    "df=pd.read_csv(url)\n",
    "df.head()"
   ]
  },
  {
   "cell_type": "code",
   "execution_count": 3,
   "id": "5f944a0a",
   "metadata": {},
   "outputs": [
    {
     "data": {
      "text/plain": [
       "age         0\n",
       "sex         0\n",
       "bmi         0\n",
       "children    0\n",
       "smoker      0\n",
       "region      0\n",
       "charges     0\n",
       "dtype: int64"
      ]
     },
     "execution_count": 3,
     "metadata": {},
     "output_type": "execute_result"
    }
   ],
   "source": [
    "df.isna().sum()"
   ]
  },
  {
   "cell_type": "markdown",
   "id": "920f9e12",
   "metadata": {},
   "source": [
    "# Q1 Do smokers have higher insurance charges than non-smokers?\n",
    "\n",
    "1. Null-Hypothesis: No difference between the two.\n",
    "\n",
    "    Alternative hypothesis:Smokers have a higher insurance rate.\n",
    "\n",
    "2. 2 sample T-Test"
   ]
  },
  {
   "cell_type": "code",
   "execution_count": 4,
   "id": "f29450b2",
   "metadata": {
    "scrolled": false
   },
   "outputs": [
    {
     "data": {
      "text/plain": [
       "no     1064\n",
       "yes     274\n",
       "Name: smoker, dtype: int64"
      ]
     },
     "execution_count": 4,
     "metadata": {},
     "output_type": "execute_result"
    }
   ],
   "source": [
    "df['smoker'].value_counts()"
   ]
  },
  {
   "cell_type": "code",
   "execution_count": 5,
   "id": "787edd79",
   "metadata": {},
   "outputs": [],
   "source": [
    "smokers=df.loc[df['smoker']=='yes'].copy()\n",
    "nonsmokers=df.loc[df['smoker']=='no'].copy()"
   ]
  },
  {
   "cell_type": "code",
   "execution_count": 6,
   "id": "53116194",
   "metadata": {},
   "outputs": [],
   "source": [
    "smokers_charge = smokers['charges']\n",
    "nonsmokers_charge = nonsmokers['charges']"
   ]
  },
  {
   "cell_type": "code",
   "execution_count": 7,
   "id": "4539aa17",
   "metadata": {},
   "outputs": [],
   "source": [
    "Q1 = smokers_charge.quantile(0.25)\n",
    "Q3 = smokers_charge.quantile(0.75)\n",
    "IQR = Q3 - Q1"
   ]
  },
  {
   "cell_type": "code",
   "execution_count": 8,
   "id": "db6598f5",
   "metadata": {},
   "outputs": [],
   "source": [
    "outliers_lower = Q1 - 1.5 * IQR\n",
    "outliers_upper = Q3 + 1.5 * IQR\n",
    "smokers_outliers = (smokers_charge < outliers_lower) | (smokers_charge > outliers_upper)"
   ]
  },
  {
   "cell_type": "code",
   "execution_count": 9,
   "id": "8ed80cee",
   "metadata": {},
   "outputs": [
    {
     "name": "stdout",
     "output_type": "stream",
     "text": [
      "Number of outliers in smokers' charges: 0\n"
     ]
    }
   ],
   "source": [
    "num_outliers = smokers_outliers.sum()\n",
    "print(f\"Number of outliers in smokers' charges: {num_outliers}\")"
   ]
  },
  {
   "cell_type": "markdown",
   "id": "02cde32c",
   "metadata": {},
   "source": [
    "### Since 0 outliers, we will proceed with the t-test."
   ]
  },
  {
   "cell_type": "code",
   "execution_count": 10,
   "id": "75464923",
   "metadata": {},
   "outputs": [],
   "source": [
    "result_levene = stats.levene(smokers_charge[~smokers_outliers], nonsmokers_charge)"
   ]
  },
  {
   "cell_type": "code",
   "execution_count": 11,
   "id": "e8f873ee",
   "metadata": {},
   "outputs": [],
   "source": [
    "alpha = 0.05\n",
    "if result_levene.pvalue < alpha:\n",
    "    # Variances are unequal, use Welch's t-test\n",
    "    result = stats.ttest_ind(smokers_charge[~smokers_outliers], nonsmokers_charge, equal_var=False)\n",
    "else:\n",
    "    # Variances are equal, use independent two-sample t-test\n",
    "    result = stats.ttest_ind(smokers_charge[~smokers_outliers], nonsmokers_charge)"
   ]
  },
  {
   "cell_type": "code",
   "execution_count": 12,
   "id": "932f2590",
   "metadata": {},
   "outputs": [
    {
     "name": "stdout",
     "output_type": "stream",
     "text": [
      "The charges data does not follow a normal distribution.\n"
     ]
    }
   ],
   "source": [
    "#part 3-5 of Q1\n",
    "alpha = 0.05\n",
    "if result.pvalue < alpha or result_nonsmokers_charge.pvalue < alpha:\n",
    "    print(\"The charges data does not follow a normal distribution.\")\n",
    "else:\n",
    "    print(\"The charges data follows a normal distribution.\")"
   ]
  },
  {
   "cell_type": "code",
   "execution_count": 13,
   "id": "15445f55",
   "metadata": {
    "scrolled": true
   },
   "outputs": [
    {
     "data": {
      "image/png": "[encoded data removed]",
      "text/plain": [
       "<Figure size 640x480 with 1 Axes>"
      ]
     },
     "metadata": {},
     "output_type": "display_data"
    }
   ],
   "source": [
    "#part 6 of Q1\n",
    "sns.boxplot(x='smoker', y='charges', data=df)\n",
    "plt.xlabel('Smoker')\n",
    "plt.ylabel('Insurance Charges')\n",
    "plt.title('Comparison of Insurance Charges between Smokers and Non-Smokers')\n",
    "plt.show()"
   ]
  },
  {
   "cell_type": "markdown",
   "id": "e5093c7d",
   "metadata": {},
   "source": [
    "# Q2. Are men more likely to smoke than women?\n",
    "\n",
    "1. Null Hypothesis: Proportions of the two are equal.\n",
    "    Alternative Hypothesis:Proportion of men is different from women. \n",
    "2. Chi-Square"
   ]
  },
  {
   "cell_type": "code",
   "execution_count": 14,
   "id": "c0b7dcec",
   "metadata": {},
   "outputs": [
    {
     "data": {
      "text/plain": [
       "array(['southwest', 'southeast', 'northwest', 'northeast'], dtype=object)"
      ]
     },
     "execution_count": 14,
     "metadata": {},
     "output_type": "execute_result"
    }
   ],
   "source": [
    "df['region'].unique()"
   ]
  },
  {
   "cell_type": "code",
   "execution_count": 15,
   "id": "784929ac",
   "metadata": {},
   "outputs": [],
   "source": [
    "# Contingency table\n",
    "cont_table=pd.crosstab(df['sex'],df['smoker'])"
   ]
  },
  {
   "cell_type": "code",
   "execution_count": 16,
   "id": "87eab893",
   "metadata": {},
   "outputs": [],
   "source": [
    "chi2,p_value,dof,expected=stats.chi2_contingency(cont_table)"
   ]
  },
  {
   "cell_type": "code",
   "execution_count": 17,
   "id": "af60a195",
   "metadata": {},
   "outputs": [
    {
     "name": "stdout",
     "output_type": "stream",
     "text": [
      "Reject the null hypothesis. There is evidence that the proportion of men who smoke is different from the proportion of women who smoke.\n"
     ]
    }
   ],
   "source": [
    "alpha = 0.05\n",
    "if p_value < alpha:\n",
    "    print(\"Reject the null hypothesis. There is evidence that the proportion of men who smoke is different from the proportion of women who smoke.\")\n",
    "else:\n",
    "    print(\"Fail to reject the null hypothesis. There is no evidence of a significant difference in smoking proportions between men and women.\")"
   ]
  },
  {
   "cell_type": "code",
   "execution_count": 18,
   "id": "ff2225cb",
   "metadata": {},
   "outputs": [
    {
     "data": {
      "image/png": "[encoded data removed]",
      "text/plain": [
       "<Figure size 640x480 with 1 Axes>"
      ]
     },
     "metadata": {},
     "output_type": "display_data"
    }
   ],
   "source": [
    "sns.countplot(data=df, x='smoker',hue='sex')\n",
    "plt.xlabel('Smoker')\n",
    "plt.ylabel('Count')\n",
    "plt.title('Distribution of Smokers by Gender')\n",
    "plt.legend(title='Sex',labels=['Female','Male'])\n",
    "plt.show()"
   ]
  },
  {
   "cell_type": "markdown",
   "id": "87c284f4",
   "metadata": {},
   "source": [
    "# Q3. Do different regions have different charges, on average?\n",
    "\n",
    "1. Null-Hypothesis: No difference in insurance charges from region to region.\n",
    "\n",
    "    Alternative hypothesis: Difference in charges by region.\n",
    "2. ANOVA"
   ]
  },
  {
   "cell_type": "markdown",
   "id": "613f54ba",
   "metadata": {},
   "source": [
    "## Normality not required using ANOVA"
   ]
  },
  {
   "cell_type": "code",
   "execution_count": 19,
   "id": "acb5bcef",
   "metadata": {
    "scrolled": true
   },
   "outputs": [
    {
     "data": {
      "image/png": "[encoded data removed]",
      "text/plain": [
       "<Figure size 640x480 with 1 Axes>"
      ]
     },
     "metadata": {},
     "output_type": "display_data"
    }
   ],
   "source": [
    "sns.boxplot(x='region',y='charges',data=df)\n",
    "plt.xlabel('Region')\n",
    "plt.ylabel('Insurance Charges')\n",
    "plt.title('Comparison of Insurance Charges across Regions')\n",
    "plt.show()"
   ]
  },
  {
   "cell_type": "code",
   "execution_count": 20,
   "id": "e7fc6537",
   "metadata": {},
   "outputs": [],
   "source": [
    "result_levene = stats.levene(\n",
    "    df.loc[df['region']=='southwest','charges'],\n",
    "    df.loc[df['region']=='southeast','charges'],\n",
    "    df.loc[df['region']=='northwest','charges'],\n",
    "    df.loc[df['region']=='northeast','charges'])"
   ]
  },
  {
   "cell_type": "code",
   "execution_count": 21,
   "id": "9defa044",
   "metadata": {},
   "outputs": [],
   "source": [
    "alpha = 0.05\n",
    "if result_levene.pvalue < alpha:\n",
    "    # If the p-value from Levene's test is less than alpha, we have unequal variances, so we'll use Welch's ANOVA\n",
    "    results = stats.f_oneway(\n",
    "        df.loc[df['region']=='southwest','charges'],\n",
    "        df.loc[df['region']=='southeast','charges'],\n",
    "        df.loc[df['region']=='northwest','charges'],\n",
    "        df.loc[df['region']=='northeast','charges'],)"
   ]
  },
  {
   "cell_type": "code",
   "execution_count": 22,
   "id": "ee4a554b",
   "metadata": {},
   "outputs": [
    {
     "name": "stdout",
     "output_type": "stream",
     "text": [
      "Reject the null hypothesis. There is evidence that different regions have different charges, on average.\n"
     ]
    }
   ],
   "source": [
    "if results.pvalue < alpha:\n",
    "    print(\"Reject the null hypothesis. There is evidence that different regions have different charges, on average.\")\n",
    "else:\n",
    "    print(\"Fail to reject the null hypothesis. There is no evidence of a significant difference in charges across regions.\")"
   ]
  }
 ],
 "metadata": {
  "kernelspec": {
   "display_name": "Python (dojo-env)",
   "language": "python",
   "name": "dojo-env"
  },
  "language_info": {
   "codemirror_mode": {
    "name": "ipython",
    "version": 3
   },
   "file_extension": ".py",
   "mimetype": "text/x-python",
   "name": "python",
   "nbconvert_exporter": "python",
   "pygments_lexer": "ipython3",
   "version": "3.9.15"
  },
  "toc": {
   "base_numbering": 1,
   "nav_menu": {},
   "number_sections": true,
   "sideBar": true,
   "skip_h1_title": false,
   "title_cell": "Table of Contents",
   "title_sidebar": "Contents",
   "toc_cell": false,
   "toc_position": {},
   "toc_section_display": true,
   "toc_window_display": false
  }
 },
 "nbformat": 4,
 "nbformat_minor": 5
}
